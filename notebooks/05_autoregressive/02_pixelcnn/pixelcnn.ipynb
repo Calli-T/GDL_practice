{
 "cells": [
  {
   "cell_type": "markdown",
   "id": "206a93a2-e9b0-4ea2-a43f-696faa83ea03",
   "metadata": {
    "id": "206a93a2-e9b0-4ea2-a43f-696faa83ea03"
   },
   "source": [
    "# 👾 PixelCNN - 케라스"
   ]
  },
  {
   "cell_type": "markdown",
   "id": "87d490a6",
   "metadata": {
    "id": "87d490a6"
   },
   "source": [
    "<table align=\"left\">\n",
    "  <td>\n",
    "    <a href=\"https://colab.research.google.com/github/rickiepark/Generative_Deep_Learning_2nd_Edition/blob/main/notebooks/05_autoregressive/02_pixelcnn/pixelcnn.ipynb\" target=\"_parent\"><img src=\"https://colab.research.google.com/assets/colab-badge.svg\" alt=\"Open In Colab\"/></a>\n",
    "  </td>\n",
    "</table>"
   ]
  },
  {
   "cell_type": "code",
   "execution_count": 1,
   "id": "e0770d42",
   "metadata": {
    "id": "e0770d42",
    "outputId": "6a3644a9-278d-4d9a-c25e-e901d64a563e",
    "colab": {
     "base_uri": "https://localhost:8080/"
    }
   },
   "source": [
    "import sys\n",
    "\n",
    "# 코랩의 경우 깃허브 저장소로부터 utils.py를 다운로드 합니다.\n",
    "if 'google.colab' in sys.modules:\n",
    "    !wget https://raw.githubusercontent.com/rickiepark/Generative_Deep_Learning_2nd_Edition/main/notebooks/utils.py\n",
    "    !mkdir -p notebooks\n",
    "    !mv utils.py notebooks\n",
    "    # output 디렉토리를 만듭니다.\n",
    "    !mkdir output"
   ],
   "outputs": []
  },
  {
   "cell_type": "markdown",
   "id": "1af9e216-7e84-4f5b-a2db-26aca3bea464",
   "metadata": {
    "id": "1af9e216-7e84-4f5b-a2db-26aca3bea464"
   },
   "source": [
    "이 노트북에서는 패션 MNIST 데이터셋에서 PixelCNN을터 훈련합니다."
   ]
  },
  {
   "cell_type": "markdown",
   "id": "9c1e6bbc-6f3b-48ac-a4f3-fde6f739f0ca",
   "metadata": {
    "id": "9c1e6bbc-6f3b-48ac-a4f3-fde6f739f0ca"
   },
   "source": [
    "이 코드는 케라스 웹 사이트에 있는 ADMoreau가 만든 훌륭한 [PixelCNN 튜토리얼](https://keras.io/examples/generative/pixelcnn/)을 참고했습니다."
   ]
  },
  {
   "cell_type": "code",
   "execution_count": 2,
   "id": "6acebfa8-4546-41fd-adaa-2307c65b1b8e",
   "metadata": {
    "id": "6acebfa8-4546-41fd-adaa-2307c65b1b8e"
   },
   "source": [
    "import numpy as np\n",
    "\n",
    "import tensorflow as tf\n",
    "from tensorflow.keras import datasets, layers, models, optimizers, callbacks\n",
    "\n",
    "from notebooks.utils import display"
   ],
   "outputs": []
  },
  {
   "cell_type": "markdown",
   "id": "8543166d-f4c7-43f8-a452-21ccbf2a0496",
   "metadata": {
    "id": "8543166d-f4c7-43f8-a452-21ccbf2a0496"
   },
   "source": [
    "## 0. 파라미터 <a name=\"parameters\"></a>"
   ]
  },
  {
   "cell_type": "code",
   "execution_count": 3,
   "id": "444d84de-2843-40d6-8e2e-93691a5393ab",
   "metadata": {
    "id": "444d84de-2843-40d6-8e2e-93691a5393ab"
   },
   "source": [
    "IMAGE_SIZE = 16\n",
    "PIXEL_LEVELS = 4\n",
    "N_FILTERS = 128\n",
    "RESIDUAL_BLOCKS = 5\n",
    "BATCH_SIZE = 128\n",
    "EPOCHS = 150"
   ],
   "outputs": []
  },
  {
   "cell_type": "markdown",
   "id": "d65dac68-d20b-4ed9-a136-eed57095ce4f",
   "metadata": {
    "id": "d65dac68-d20b-4ed9-a136-eed57095ce4f"
   },
   "source": [
    "## 1. 데이터 준비 <a name=\"prepare\"></a>"
   ]
  },
  {
   "cell_type": "code",
   "execution_count": 4,
   "id": "0ed0fc56-d1b0-4d42-b029-f4198f78e666",
   "metadata": {
    "id": "0ed0fc56-d1b0-4d42-b029-f4198f78e666",
    "outputId": "c5caad69-f947-4553-ac98-3dcecefa27e0",
    "colab": {
     "base_uri": "https://localhost:8080/"
    }
   },
   "source": [
    "# 데이터 로드\n",
    "(x_train, _), (_, _) = datasets.fashion_mnist.load_data()"
   ],
   "outputs": []
  },
  {
   "cell_type": "code",
   "execution_count": 5,
   "id": "b667e78c-8fa7-4e5b-a2c0-69e50166ef77",
   "metadata": {
    "id": "b667e78c-8fa7-4e5b-a2c0-69e50166ef77"
   },
   "source": [
    "# 데이터 전처리\n",
    "def preprocess(imgs_int):\n",
    "    imgs_int = np.expand_dims(imgs_int, -1)\n",
    "    imgs_int = tf.image.resize(imgs_int, (IMAGE_SIZE, IMAGE_SIZE)).numpy()\n",
    "    imgs_int = (imgs_int / (256 / PIXEL_LEVELS)).astype(int)\n",
    "    imgs = imgs_int.astype(\"float32\")\n",
    "    imgs = imgs / PIXEL_LEVELS\n",
    "    return imgs, imgs_int\n",
    "\n",
    "\n",
    "input_data, output_data = preprocess(x_train)"
   ],
   "outputs": []
  },
  {
   "cell_type": "code",
   "execution_count": 6,
   "id": "e3c2b304-8385-4931-8291-9b7cc462c95e",
   "metadata": {
    "id": "e3c2b304-8385-4931-8291-9b7cc462c95e",
    "outputId": "49bbb94c-b397-4c37-ce1b-971b664f075f",
    "colab": {
     "base_uri": "https://localhost:8080/",
     "height": 128
    }
   },
   "source": [
    "# 훈련 세트에 있는 샘플 출력하기\n",
    "display(input_data)"
   ],
   "outputs": []
  },
  {
   "cell_type": "markdown",
   "id": "5ccd5cb2-8c7b-4667-8adb-4902f3fa60cf",
   "metadata": {
    "id": "5ccd5cb2-8c7b-4667-8adb-4902f3fa60cf"
   },
   "source": [
    "## 2. PixelCNN 만들기"
   ]
  },
  {
   "cell_type": "code",
   "execution_count": 7,
   "id": "847050a5-e4e6-4134-9bfc-c690cb8cb44d",
   "metadata": {
    "id": "847050a5-e4e6-4134-9bfc-c690cb8cb44d"
   },
   "source": [
    "# 첫 번째 층은 PixelCNN 층입니다.\n",
    "# 이 층은 마스킹을 가진 2D 합성곱 층입니다.\n",
    "class MaskedConv2D(layers.Layer):\n",
    "    def __init__(self, mask_type, **kwargs):\n",
    "        super(MaskedConv2D, self).__init__()\n",
    "        self.mask_type = mask_type\n",
    "        self.conv = layers.Conv2D(**kwargs)\n",
    "\n",
    "    def build(self, input_shape):\n",
    "        # conv2d 층을 만들고 커널 변수를 초기화합니다.\n",
    "        self.conv.build(input_shape)\n",
    "        # 초기화된 커널을 사용해 마스크를 만듭니다.\n",
    "        kernel_shape = self.conv.kernel.get_shape()\n",
    "        self.mask = np.zeros(shape=kernel_shape)\n",
    "        self.mask[: kernel_shape[0] // 2, ...] = 1.0\n",
    "        self.mask[kernel_shape[0] // 2, : kernel_shape[1] // 2, ...] = 1.0\n",
    "        if self.mask_type == \"B\":\n",
    "            self.mask[kernel_shape[0] // 2, kernel_shape[1] // 2, ...] = 1.0\n",
    "\n",
    "    def call(self, inputs):\n",
    "        self.conv.kernel.assign(self.conv.kernel * self.mask)\n",
    "        return self.conv(inputs)\n",
    "\n",
    "    def get_config(self):\n",
    "        cfg = super().get_config()\n",
    "        return cfg"
   ],
   "outputs": []
  },
  {
   "cell_type": "code",
   "execution_count": 8,
   "id": "a52f7795-790e-47b0-b724-80be3e3c3666",
   "metadata": {
    "id": "a52f7795-790e-47b0-b724-80be3e3c3666"
   },
   "source": [
    "class ResidualBlock(layers.Layer):\n",
    "    def __init__(self, filters, **kwargs):\n",
    "        super(ResidualBlock, self).__init__(**kwargs)\n",
    "        self.conv1 = layers.Conv2D(\n",
    "            filters=filters // 2, kernel_size=1, activation=\"relu\"\n",
    "        )\n",
    "        self.pixel_conv = MaskedConv2D(\n",
    "            mask_type=\"B\",\n",
    "            filters=filters // 2,\n",
    "            kernel_size=3,\n",
    "            activation=\"relu\",\n",
    "            padding=\"same\",\n",
    "        )\n",
    "        self.conv2 = layers.Conv2D(\n",
    "            filters=filters, kernel_size=1, activation=\"relu\"\n",
    "        )\n",
    "\n",
    "    def call(self, inputs):\n",
    "        x = self.conv1(inputs)\n",
    "        x = self.pixel_conv(x)\n",
    "        x = self.conv2(x)\n",
    "        return layers.add([inputs, x])\n",
    "\n",
    "    def get_config(self):\n",
    "        cfg = super().get_config()\n",
    "        return cfg"
   ],
   "outputs": []
  },
  {
   "cell_type": "code",
   "execution_count": 9,
   "id": "19b4508f-84de-42a9-a77f-950fb493db13",
   "metadata": {
    "id": "19b4508f-84de-42a9-a77f-950fb493db13",
    "outputId": "b57d0654-e28a-46dd-b3b9-cd317a124709",
    "colab": {
     "base_uri": "https://localhost:8080/"
    }
   },
   "source": [
    "inputs = layers.Input(shape=(IMAGE_SIZE, IMAGE_SIZE, 1))\n",
    "x = MaskedConv2D(\n",
    "    mask_type=\"A\",\n",
    "    filters=N_FILTERS,\n",
    "    kernel_size=7,\n",
    "    activation=\"relu\",\n",
    "    padding=\"same\",\n",
    ")(inputs)\n",
    "\n",
    "for _ in range(RESIDUAL_BLOCKS):\n",
    "    x = ResidualBlock(filters=N_FILTERS)(x)\n",
    "\n",
    "for _ in range(2):\n",
    "    x = MaskedConv2D(\n",
    "        mask_type=\"B\",\n",
    "        filters=N_FILTERS,\n",
    "        kernel_size=1,\n",
    "        strides=1,\n",
    "        activation=\"relu\",\n",
    "        padding=\"valid\",\n",
    "    )(x)\n",
    "\n",
    "out = layers.Conv2D(\n",
    "    filters=PIXEL_LEVELS,\n",
    "    kernel_size=1,\n",
    "    strides=1,\n",
    "    activation=\"softmax\",\n",
    "    padding=\"valid\",\n",
    ")(x)\n",
    "\n",
    "pixel_cnn = models.Model(inputs, out)\n",
    "pixel_cnn.summary()"
   ],
   "outputs": []
  },
  {
   "cell_type": "markdown",
   "id": "442b5ffa-67a3-4b15-a342-eb1eed5e87ac",
   "metadata": {
    "id": "442b5ffa-67a3-4b15-a342-eb1eed5e87ac"
   },
   "source": [
    "## 3. PixelCNN 훈련하기 <a name=\"train\"></a>"
   ]
  },
  {
   "cell_type": "code",
   "execution_count": 10,
   "id": "7204789a-2ad3-48bf-b7e8-00d4cab10d9c",
   "metadata": {
    "id": "7204789a-2ad3-48bf-b7e8-00d4cab10d9c"
   },
   "source": [
    "adam = optimizers.Adam(learning_rate=0.0005)\n",
    "pixel_cnn.compile(optimizer=adam, loss=\"sparse_categorical_crossentropy\")"
   ],
   "outputs": []
  },
  {
   "cell_type": "code",
   "execution_count": 11,
   "id": "09d327fc-aff8-40e6-b390-d1bff4c06ea6",
   "metadata": {
    "id": "09d327fc-aff8-40e6-b390-d1bff4c06ea6"
   },
   "source": [
    "tensorboard_callback = callbacks.TensorBoard(log_dir=\"./logs\")\n",
    "\n",
    "\n",
    "class ImageGenerator(callbacks.Callback):\n",
    "    def __init__(self, num_img):\n",
    "        self.num_img = num_img\n",
    "\n",
    "    def sample_from(self, probs, temperature):  # <2>\n",
    "        probs = probs ** (1 / temperature)\n",
    "        probs = probs / np.sum(probs)\n",
    "        return np.random.choice(len(probs), p=probs)\n",
    "\n",
    "    def generate(self, temperature):\n",
    "        generated_images = np.zeros(\n",
    "            shape=(self.num_img,) + (pixel_cnn.input_shape)[1:]\n",
    "        )\n",
    "        batch, rows, cols, channels = generated_images.shape\n",
    "\n",
    "        for row in range(rows):\n",
    "            for col in range(cols):\n",
    "                for channel in range(channels):\n",
    "                    probs = self.model.predict(generated_images, verbose=0)[\n",
    "                        :, row, col, :\n",
    "                    ]\n",
    "                    generated_images[:, row, col, channel] = [\n",
    "                        self.sample_from(x, temperature) for x in probs\n",
    "                    ]\n",
    "                    generated_images[:, row, col, channel] /= PIXEL_LEVELS\n",
    "\n",
    "        return generated_images\n",
    "\n",
    "    def on_epoch_end(self, epoch, logs=None):\n",
    "        if epoch % 10 == 0: # 출력 횟수를 줄이기 위해\n",
    "            generated_images = self.generate(temperature=1.0)\n",
    "            display(\n",
    "                generated_images,\n",
    "                save_to=\"./output/generated_img_%03d.png\" % (epoch),\n",
    "            )\n",
    "\n",
    "\n",
    "img_generator_callback = ImageGenerator(num_img=10)"
   ],
   "outputs": []
  },
  {
   "cell_type": "code",
   "execution_count": 12,
   "id": "85231056-d4a4-4897-ab91-065325a18d93",
   "metadata": {
    "tags": [],
    "id": "85231056-d4a4-4897-ab91-065325a18d93",
    "outputId": "ec1ce7be-938a-48ef-e170-ea08043925aa",
    "colab": {
     "base_uri": "https://localhost:8080/",
     "height": 1000
    }
   },
   "source": [
    "pixel_cnn.fit(\n",
    "    input_data,\n",
    "    output_data,\n",
    "    batch_size=BATCH_SIZE,\n",
    "    epochs=EPOCHS,\n",
    "    callbacks=[tensorboard_callback, img_generator_callback],\n",
    ")"
   ],
   "outputs": []
  },
  {
   "cell_type": "markdown",
   "id": "cfb4fa72-dd2d-44c1-ad18-9c965060683e",
   "metadata": {
    "id": "cfb4fa72-dd2d-44c1-ad18-9c965060683e"
   },
   "source": [
    "## 4. 이미지 생성하기 <a name=\"generate\"></a>"
   ]
  },
  {
   "cell_type": "code",
   "execution_count": 13,
   "id": "7bbd4643-be09-49ba-b7bc-a524a2f00806",
   "metadata": {
    "id": "7bbd4643-be09-49ba-b7bc-a524a2f00806"
   },
   "source": [
    "generated_images = img_generator_callback.generate(temperature=1.0)"
   ],
   "outputs": []
  },
  {
   "cell_type": "code",
   "execution_count": 14,
   "id": "52cadb4b-ae2c-42a9-92ac-68e2131380ef",
   "metadata": {
    "id": "52cadb4b-ae2c-42a9-92ac-68e2131380ef",
    "outputId": "b0a49bca-6dc2-472b-a54b-9367e76be0c1",
    "colab": {
     "base_uri": "https://localhost:8080/",
     "height": 128
    }
   },
   "source": [
    "display(generated_images)"
   ],
   "outputs": []
  }
 ],
 "metadata": {
  "kernelspec": {
   "display_name": "Python 3 (ipykernel)",
   "language": "python",
   "name": "python3"
  },
  "language_info": {
   "codemirror_mode": {
    "name": "ipython",
    "version": 3
   },
   "file_extension": ".py",
   "mimetype": "text/x-python",
   "name": "python",
   "nbconvert_exporter": "python",
   "pygments_lexer": "ipython3",
   "version": "3.8.2"
  },
  "colab": {
   "provenance": [],
   "gpuType": "T4"
  },
  "accelerator": "GPU",
  "gpuClass": "standard"
 },
 "nbformat": 4,
 "nbformat_minor": 5
}
