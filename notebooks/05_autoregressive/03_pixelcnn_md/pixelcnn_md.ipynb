{
 "cells": [
  {
   "cell_type": "markdown",
   "id": "b076bd1a-b236-4fbc-953d-8295b25122ae",
   "metadata": {
    "id": "b076bd1a-b236-4fbc-953d-8295b25122ae"
   },
   "source": [
    "# 👾 PixelCNN - 텐서플로 확률 라이브러리"
   ]
  },
  {
   "cell_type": "markdown",
   "id": "2fdf05da",
   "metadata": {
    "id": "2fdf05da"
   },
   "source": [
    "<table align=\"left\">\n",
    "  <td>\n",
    "    <a href=\"https://colab.research.google.com/github/rickiepark/Generative_Deep_Learning_2nd_Edition/blob/main/notebooks/05_autoregressive/03_pixelcnn_md/pixelcnn_md.ipynb\" target=\"_parent\"><img src=\"https://colab.research.google.com/assets/colab-badge.svg\" alt=\"Open In Colab\"/></a>\n",
    "  </td>\n",
    "</table>"
   ]
  },
  {
   "cell_type": "code",
   "execution_count": 1,
   "id": "12cfdb50",
   "metadata": {
    "id": "12cfdb50",
    "outputId": "550d2bda-3b3d-46ce-c77b-f4e9986a313e",
    "colab": {
     "base_uri": "https://localhost:8080/"
    }
   },
   "source": [
    "import sys\n",
    "\n",
    "# 코랩의 경우 깃허브 저장소로부터 utils.py를 다운로드 합니다.\n",
    "if 'google.colab' in sys.modules:\n",
    "    !wget https://raw.githubusercontent.com/rickiepark/Generative_Deep_Learning_2nd_Edition/main/notebooks/utils.py\n",
    "    !mkdir -p notebooks\n",
    "    !mv utils.py notebooks\n",
    "    # output 디렉토리를 만듭니다.\n",
    "    !mkdir output"
   ],
   "outputs": []
  },
  {
   "cell_type": "markdown",
   "id": "9235cbd1-f136-411c-88d9-f69f270c0b96",
   "metadata": {
    "id": "9235cbd1-f136-411c-88d9-f69f270c0b96"
   },
   "source": [
    "이 노트북은 텐서플로 확률 라이브러리를 사용해 패션 MNIST 데이터셋에서 PixelCNN을 훈련합니다."
   ]
  },
  {
   "cell_type": "code",
   "execution_count": 2,
   "id": "84acc7be-6764-4668-b2bb-178f63deeed3",
   "metadata": {
    "id": "84acc7be-6764-4668-b2bb-178f63deeed3"
   },
   "source": [
    "import numpy as np\n",
    "\n",
    "import tensorflow as tf\n",
    "from tensorflow.keras import datasets, layers, models, optimizers, callbacks\n",
    "import tensorflow_probability as tfp\n",
    "\n",
    "from notebooks.utils import display"
   ],
   "outputs": []
  },
  {
   "cell_type": "markdown",
   "id": "339e6268-ebd7-4feb-86db-1fe7abccdbe5",
   "metadata": {
    "id": "339e6268-ebd7-4feb-86db-1fe7abccdbe5"
   },
   "source": [
    "## 0. 파라미터 <a name=\"parameters\"></a>"
   ]
  },
  {
   "cell_type": "code",
   "execution_count": 3,
   "id": "1b2ee6ce-129f-4833-b0c5-fa567381c4e0",
   "metadata": {
    "id": "1b2ee6ce-129f-4833-b0c5-fa567381c4e0"
   },
   "source": [
    "IMAGE_SIZE = 32\n",
    "N_COMPONENTS = 5\n",
    "EPOCHS = 10\n",
    "BATCH_SIZE = 128"
   ],
   "outputs": []
  },
  {
   "cell_type": "markdown",
   "id": "b7716fac-0010-49b0-b98e-53be2259edde",
   "metadata": {
    "id": "b7716fac-0010-49b0-b98e-53be2259edde"
   },
   "source": [
    "## 1. 데이터 준비 <a name=\"prepare\"></a>"
   ]
  },
  {
   "cell_type": "code",
   "execution_count": 4,
   "id": "9a73e5a4-1638-411c-8d3c-29f823424458",
   "metadata": {
    "id": "9a73e5a4-1638-411c-8d3c-29f823424458",
    "outputId": "a878ed57-759f-4505-beef-59fa18c5ef12",
    "colab": {
     "base_uri": "https://localhost:8080/"
    }
   },
   "source": [
    "# 데이터 로드\n",
    "(x_train, _), (_, _) = datasets.fashion_mnist.load_data()"
   ],
   "outputs": []
  },
  {
   "cell_type": "code",
   "execution_count": 5,
   "id": "ebae2f0d-59fd-4796-841f-7213eae638de",
   "metadata": {
    "id": "ebae2f0d-59fd-4796-841f-7213eae638de"
   },
   "source": [
    "# 데이터 전처리\n",
    "def preprocess(imgs):\n",
    "    imgs = np.expand_dims(imgs, -1)\n",
    "    imgs = tf.image.resize(imgs, (IMAGE_SIZE, IMAGE_SIZE)).numpy()\n",
    "    return imgs\n",
    "\n",
    "\n",
    "input_data = preprocess(x_train)"
   ],
   "outputs": []
  },
  {
   "cell_type": "code",
   "execution_count": 6,
   "id": "fa53709f-7f3f-483b-9db8-2e5f9b9942c2",
   "metadata": {
    "id": "fa53709f-7f3f-483b-9db8-2e5f9b9942c2",
    "outputId": "893eb8af-4d48-4b00-bd08-51e2223e6cb4",
    "colab": {
     "base_uri": "https://localhost:8080/",
     "height": 128
    }
   },
   "source": [
    "# 훈련 세트에 있는 샘플 출력하기\n",
    "display(input_data)"
   ],
   "outputs": []
  },
  {
   "cell_type": "markdown",
   "id": "aff50401-3abe-4c10-bba8-b35bc13ad7d5",
   "metadata": {
    "tags": [],
    "id": "aff50401-3abe-4c10-bba8-b35bc13ad7d5"
   },
   "source": [
    "## 2. PixelCNN 만들기 <a name=\"build\"></a>"
   ]
  },
  {
   "cell_type": "code",
   "execution_count": 7,
   "id": "71a2a4a1-690e-4c94-b323-86f0e5b691d5",
   "metadata": {
    "id": "71a2a4a1-690e-4c94-b323-86f0e5b691d5"
   },
   "source": [
    "# PixelCNN 모델 정의\n",
    "dist = tfp.distributions.PixelCNN(\n",
    "    image_shape=(IMAGE_SIZE, IMAGE_SIZE, 1),\n",
    "    num_resnet=1,\n",
    "    num_hierarchies=2,\n",
    "    num_filters=32,\n",
    "    num_logistic_mix=N_COMPONENTS,\n",
    "    dropout_p=0.3,\n",
    ")\n",
    "\n",
    "# 모델 입력을 정의합니다.\n",
    "image_input = layers.Input(shape=(IMAGE_SIZE, IMAGE_SIZE, 1))\n",
    "\n",
    "# 로그 가능도를 손실 함수로 정의합니다.\n",
    "log_prob = dist.log_prob(image_input)\n",
    "\n",
    "# 모델을 정의합니다.\n",
    "pixelcnn = models.Model(inputs=image_input, outputs=log_prob)\n",
    "pixelcnn.add_loss(-tf.reduce_mean(log_prob))"
   ],
   "outputs": []
  },
  {
   "cell_type": "markdown",
   "id": "35b14665-4359-447b-be58-3fd58ba69084",
   "metadata": {
    "id": "35b14665-4359-447b-be58-3fd58ba69084"
   },
   "source": [
    "## 3. PixelCNN 훈련하기 <a name=\"train\"></a>"
   ]
  },
  {
   "cell_type": "code",
   "execution_count": 8,
   "id": "d9ec362d-41fa-473a-ad56-ebeec6cfd3b8",
   "metadata": {
    "id": "d9ec362d-41fa-473a-ad56-ebeec6cfd3b8"
   },
   "source": [
    "# 모델 컴파일 및 훈련\n",
    "pixelcnn.compile(\n",
    "    optimizer=optimizers.Adam(0.001),\n",
    ")"
   ],
   "outputs": []
  },
  {
   "cell_type": "code",
   "execution_count": 9,
   "id": "c525e44b-b3bb-489c-9d35-fcfe3e714e6a",
   "metadata": {
    "id": "c525e44b-b3bb-489c-9d35-fcfe3e714e6a"
   },
   "source": [
    "tensorboard_callback = callbacks.TensorBoard(log_dir=\"./logs\")\n",
    "\n",
    "\n",
    "class ImageGenerator(callbacks.Callback):\n",
    "    def __init__(self, num_img):\n",
    "        self.num_img = num_img\n",
    "\n",
    "    def generate(self):\n",
    "        return dist.sample(self.num_img).numpy()\n",
    "\n",
    "    def on_epoch_end(self, epoch, logs=None):\n",
    "        generated_images = self.generate()\n",
    "        display(\n",
    "            generated_images,\n",
    "            n=self.num_img,\n",
    "            save_to=\"./output/generated_img_%03d.png\" % (epoch),\n",
    "        )\n",
    "\n",
    "\n",
    "img_generator_callback = ImageGenerator(num_img=2)"
   ],
   "outputs": []
  },
  {
   "cell_type": "code",
   "execution_count": 10,
   "id": "bd6a5a71-eb55-4ec0-9c8c-cb11a382ff90",
   "metadata": {
    "tags": [],
    "id": "bd6a5a71-eb55-4ec0-9c8c-cb11a382ff90",
    "outputId": "b1afd541-ce2d-495e-fca3-6cb3db6c214e",
    "colab": {
     "base_uri": "https://localhost:8080/",
     "height": 1000
    }
   },
   "source": [
    "pixelcnn.fit(\n",
    "    input_data,\n",
    "    batch_size=BATCH_SIZE,\n",
    "    epochs=EPOCHS,\n",
    "    verbose=True,\n",
    "    callbacks=[tensorboard_callback, img_generator_callback],\n",
    ")"
   ],
   "outputs": []
  },
  {
   "cell_type": "markdown",
   "id": "fb1f295f-ade0-4040-a6a5-a7b428b08ebc",
   "metadata": {
    "id": "fb1f295f-ade0-4040-a6a5-a7b428b08ebc"
   },
   "source": [
    "## 4. 이미지 생성하기 <a name=\"generate\"></a>"
   ]
  },
  {
   "cell_type": "code",
   "execution_count": 11,
   "id": "8db3cfe3-339e-463d-8af5-fbd403385fca",
   "metadata": {
    "id": "8db3cfe3-339e-463d-8af5-fbd403385fca"
   },
   "source": [
    "generated_images = img_generator_callback.generate()"
   ],
   "outputs": []
  },
  {
   "cell_type": "code",
   "execution_count": 12,
   "id": "80087297-3f47-4e0c-ac89-8758d4386d7c",
   "metadata": {
    "id": "80087297-3f47-4e0c-ac89-8758d4386d7c",
    "outputId": "d7d3b257-4fa3-470e-c95f-9c994517f147",
    "colab": {
     "base_uri": "https://localhost:8080/",
     "height": 268
    }
   },
   "source": [
    "display(generated_images, n=img_generator_callback.num_img)"
   ],
   "outputs": []
  }
 ],
 "metadata": {
  "kernelspec": {
   "display_name": "Python 3 (ipykernel)",
   "language": "python",
   "name": "python3"
  },
  "language_info": {
   "codemirror_mode": {
    "name": "ipython",
    "version": 3
   },
   "file_extension": ".py",
   "mimetype": "text/x-python",
   "name": "python",
   "nbconvert_exporter": "python",
   "pygments_lexer": "ipython3",
   "version": "3.8.2"
  },
  "colab": {
   "provenance": [],
   "gpuType": "T4"
  },
  "accelerator": "GPU",
  "gpuClass": "standard"
 },
 "nbformat": 4,
 "nbformat_minor": 5
}
