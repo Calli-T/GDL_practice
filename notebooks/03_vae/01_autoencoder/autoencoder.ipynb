{
 "cells": [
  {
   "cell_type": "markdown",
   "id": "b076bd1a-b236-4fbc-953d-8295b25122ae",
   "metadata": {
    "id": "b076bd1a-b236-4fbc-953d-8295b25122ae"
   },
   "source": [
    "# 👖 패션 MNIST를 사용한 오토인코더"
   ]
  },
  {
   "cell_type": "markdown",
   "id": "b42680f3",
   "metadata": {
    "id": "b42680f3"
   },
   "source": [
    "<table align=\"left\">\n",
    "  <td>\n",
    "    <a href=\"https://colab.research.google.com/github/rickiepark/Generative_Deep_Learning_2nd_Edition/blob/main/notebooks/03_vae/01_autoencoder/autoencoder.ipynb\" target=\"_parent\"><img src=\"https://colab.research.google.com/assets/colab-badge.svg\" alt=\"Open In Colab\"/></a>\n",
    "  </td>\n",
    "</table>"
   ]
  },
  {
   "cell_type": "markdown",
   "id": "9235cbd1-f136-411c-88d9-f69f270c0b96",
   "metadata": {
    "id": "9235cbd1-f136-411c-88d9-f69f270c0b96"
   },
   "source": [
    "이 노트북에서는 패션 MNIST 데이터셋으로 오토인코더를 훈련합니다."
   ]
  },
  {
   "cell_type": "code",
   "execution_count": 1,
   "id": "d7f23b10",
   "metadata": {
    "colab": {
     "base_uri": "https://localhost:8080/"
    },
    "id": "d7f23b10",
    "outputId": "e4b35791-7d35-4075-f159-4840e1472247"
   },
   "source": [
    "import sys\n",
    "\n",
    "# 코랩의 경우 깃허브 저장소로부터 utils.py를 다운로드 합니다.\n",
    "if 'google.colab' in sys.modules:\n",
    "    !wget https://raw.githubusercontent.com/rickiepark/Generative_Deep_Learning_2nd_Edition/main/notebooks/utils.py\n",
    "    !mkdir -p notebooks\n",
    "    !mv utils.py notebooks"
   ],
   "outputs": []
  },
  {
   "cell_type": "code",
   "execution_count": 2,
   "id": "84acc7be-6764-4668-b2bb-178f63deeed3",
   "metadata": {
    "id": "84acc7be-6764-4668-b2bb-178f63deeed3"
   },
   "source": [
    "import numpy as np\n",
    "import matplotlib.pyplot as plt\n",
    "\n",
    "from tensorflow.keras import layers, models, datasets, callbacks\n",
    "import tensorflow.keras.backend as K\n",
    "\n",
    "from notebooks.utils import display"
   ],
   "outputs": []
  },
  {
   "cell_type": "markdown",
   "id": "339e6268-ebd7-4feb-86db-1fe7abccdbe5",
   "metadata": {
    "id": "339e6268-ebd7-4feb-86db-1fe7abccdbe5"
   },
   "source": [
    "## 0. 파라미터 <a name=\"parameters\"></a>"
   ]
  },
  {
   "cell_type": "code",
   "execution_count": 3,
   "id": "1b2ee6ce-129f-4833-b0c5-fa567381c4e0",
   "metadata": {
    "id": "1b2ee6ce-129f-4833-b0c5-fa567381c4e0"
   },
   "source": [
    "IMAGE_SIZE = 32\n",
    "CHANNELS = 1\n",
    "BATCH_SIZE = 100\n",
    "BUFFER_SIZE = 1000\n",
    "VALIDATION_SPLIT = 0.2\n",
    "EMBEDDING_DIM = 2\n",
    "EPOCHS = 3"
   ],
   "outputs": []
  },
  {
   "cell_type": "markdown",
   "id": "b7716fac-0010-49b0-b98e-53be2259edde",
   "metadata": {
    "id": "b7716fac-0010-49b0-b98e-53be2259edde"
   },
   "source": [
    "## 1. 데이터 준비 <a name=\"prepare\"></a>"
   ]
  },
  {
   "cell_type": "code",
   "execution_count": 4,
   "id": "9a73e5a4-1638-411c-8d3c-29f823424458",
   "metadata": {
    "colab": {
     "base_uri": "https://localhost:8080/"
    },
    "id": "9a73e5a4-1638-411c-8d3c-29f823424458",
    "outputId": "f3d45829-b52c-4d34-ed6a-d720a4f5be7c"
   },
   "source": [
    "# 데이터를 로드합니다.\n",
    "(x_train, y_train), (x_test, y_test) = datasets.fashion_mnist.load_data()"
   ],
   "outputs": []
  },
  {
   "cell_type": "code",
   "execution_count": 5,
   "id": "ebae2f0d-59fd-4796-841f-7213eae638de",
   "metadata": {
    "id": "ebae2f0d-59fd-4796-841f-7213eae638de"
   },
   "source": [
    "# 데이터 전처리\n",
    "def preprocess(imgs):\n",
    "    \"\"\"\n",
    "    이미지를 정규화하고 크기를 변경합니다.\n",
    "    \"\"\"\n",
    "    imgs = imgs.astype(\"float32\") / 255.0\n",
    "    imgs = np.pad(imgs, ((0, 0), (2, 2), (2, 2)), constant_values=0.0)\n",
    "    imgs = np.expand_dims(imgs, -1)\n",
    "    return imgs\n",
    "\n",
    "\n",
    "x_train = preprocess(x_train)\n",
    "x_test = preprocess(x_test)"
   ],
   "outputs": []
  },
  {
   "cell_type": "code",
   "execution_count": 6,
   "id": "fa53709f-7f3f-483b-9db8-2e5f9b9942c2",
   "metadata": {
    "colab": {
     "base_uri": "https://localhost:8080/",
     "height": 128
    },
    "id": "fa53709f-7f3f-483b-9db8-2e5f9b9942c2",
    "outputId": "4e86c23f-f6ca-41cb-beb8-44a11b62dc66"
   },
   "source": [
    "# 훈련 세트에 있는 의류 아이템 일부를 출력합니다.\n",
    "display(x_train)"
   ],
   "outputs": []
  },
  {
   "cell_type": "markdown",
   "id": "aff50401-3abe-4c10-bba8-b35bc13ad7d5",
   "metadata": {
    "id": "aff50401-3abe-4c10-bba8-b35bc13ad7d5",
    "tags": []
   },
   "source": [
    "## 2. 오토인코더 만들기 <a name=\"build\"></a>"
   ]
  },
  {
   "cell_type": "code",
   "execution_count": 7,
   "id": "086e2584-c60d-4990-89f4-2092c44e023e",
   "metadata": {
    "colab": {
     "base_uri": "https://localhost:8080/"
    },
    "id": "086e2584-c60d-4990-89f4-2092c44e023e",
    "outputId": "47076d7c-7731-48a4-c65c-92d94e65de2b"
   },
   "source": [
    "# 인코더\n",
    "encoder_input = layers.Input(\n",
    "    shape=(IMAGE_SIZE, IMAGE_SIZE, CHANNELS), name=\"encoder_input\"\n",
    ")\n",
    "x = layers.Conv2D(32, (3, 3), strides=2, activation=\"relu\", padding=\"same\")(\n",
    "    encoder_input\n",
    ")\n",
    "x = layers.Conv2D(64, (3, 3), strides=2, activation=\"relu\", padding=\"same\")(x)\n",
    "x = layers.Conv2D(128, (3, 3), strides=2, activation=\"relu\", padding=\"same\")(x)\n",
    "shape_before_flattening = K.int_shape(x)[1:]  # 디코더에 필요합니다!\n",
    "\n",
    "x = layers.Flatten()(x)\n",
    "encoder_output = layers.Dense(EMBEDDING_DIM, name=\"encoder_output\")(x)\n",
    "\n",
    "encoder = models.Model(encoder_input, encoder_output)\n",
    "encoder.summary()"
   ],
   "outputs": []
  },
  {
   "cell_type": "code",
   "execution_count": 8,
   "id": "6c409e63-1aea-42e2-8324-c3e2a12073ee",
   "metadata": {
    "colab": {
     "base_uri": "https://localhost:8080/"
    },
    "id": "6c409e63-1aea-42e2-8324-c3e2a12073ee",
    "outputId": "cb18505b-0757-4a67-d0c0-4ff43577116a"
   },
   "source": [
    "# 디코더\n",
    "decoder_input = layers.Input(shape=(EMBEDDING_DIM,), name=\"decoder_input\")\n",
    "x = layers.Dense(np.prod(shape_before_flattening))(decoder_input)\n",
    "x = layers.Reshape(shape_before_flattening)(x)\n",
    "x = layers.Conv2DTranspose(\n",
    "    128, (3, 3), strides=2, activation=\"relu\", padding=\"same\"\n",
    ")(x)\n",
    "x = layers.Conv2DTranspose(\n",
    "    64, (3, 3), strides=2, activation=\"relu\", padding=\"same\"\n",
    ")(x)\n",
    "x = layers.Conv2DTranspose(\n",
    "    32, (3, 3), strides=2, activation=\"relu\", padding=\"same\"\n",
    ")(x)\n",
    "decoder_output = layers.Conv2D(\n",
    "    CHANNELS,\n",
    "    (3, 3),\n",
    "    strides=1,\n",
    "    activation=\"sigmoid\",\n",
    "    padding=\"same\",\n",
    "    name=\"decoder_output\",\n",
    ")(x)\n",
    "\n",
    "decoder = models.Model(decoder_input, decoder_output)\n",
    "decoder.summary()"
   ],
   "outputs": []
  },
  {
   "cell_type": "code",
   "execution_count": 9,
   "id": "34dc7c69-26a8-4c17-aa24-792f1b0a69b4",
   "metadata": {
    "colab": {
     "base_uri": "https://localhost:8080/"
    },
    "id": "34dc7c69-26a8-4c17-aa24-792f1b0a69b4",
    "outputId": "b8dfe35d-c069-4881-dc86-6d2ab1acc1a2"
   },
   "source": [
    "# 오토인코더\n",
    "autoencoder = models.Model(\n",
    "    encoder_input, decoder(encoder_output)\n",
    ")\n",
    "autoencoder.summary()"
   ],
   "outputs": []
  },
  {
   "cell_type": "markdown",
   "id": "35b14665-4359-447b-be58-3fd58ba69084",
   "metadata": {
    "id": "35b14665-4359-447b-be58-3fd58ba69084"
   },
   "source": [
    "## 3. 오토인코더 훈련하기 <a name=\"train\"></a>"
   ]
  },
  {
   "cell_type": "code",
   "execution_count": 10,
   "id": "b429fdad-ea9c-45a2-a556-eb950d793824",
   "metadata": {
    "id": "b429fdad-ea9c-45a2-a556-eb950d793824"
   },
   "source": [
    "# 오토인코더 컴파일\n",
    "autoencoder.compile(optimizer=\"adam\", loss=\"binary_crossentropy\")"
   ],
   "outputs": []
  },
  {
   "cell_type": "code",
   "execution_count": 11,
   "id": "c525e44b-b3bb-489c-9d35-fcfe3e714e6a",
   "metadata": {
    "id": "c525e44b-b3bb-489c-9d35-fcfe3e714e6a"
   },
   "source": [
    "# 모델 저장 체크포인트 생성\n",
    "model_checkpoint_callback = callbacks.ModelCheckpoint(\n",
    "    filepath=\"./checkpoint\",\n",
    "    save_weights_only=False,\n",
    "    save_freq=\"epoch\",\n",
    "    monitor=\"loss\",\n",
    "    mode=\"min\",\n",
    "    save_best_only=True,\n",
    "    verbose=0,\n",
    ")\n",
    "tensorboard_callback = callbacks.TensorBoard(log_dir=\"./logs\")"
   ],
   "outputs": []
  },
  {
   "cell_type": "code",
   "execution_count": 12,
   "id": "b3c497b7-fa40-48df-b2bf-541239cc9400",
   "metadata": {
    "colab": {
     "base_uri": "https://localhost:8080/"
    },
    "id": "b3c497b7-fa40-48df-b2bf-541239cc9400",
    "outputId": "a81330ee-c7da-486c-a0e7-0a4fb7380cfd",
    "tags": []
   },
   "source": [
    "autoencoder.fit(\n",
    "    x_train,\n",
    "    x_train,\n",
    "    epochs=EPOCHS,\n",
    "    batch_size=BATCH_SIZE,\n",
    "    shuffle=True,\n",
    "    validation_data=(x_test, x_test),\n",
    "    callbacks=[model_checkpoint_callback, tensorboard_callback],\n",
    ")"
   ],
   "outputs": []
  },
  {
   "cell_type": "code",
   "execution_count": 13,
   "id": "edb847d1-c22d-4923-ba92-0ecde0f12fca",
   "metadata": {
    "colab": {
     "base_uri": "https://localhost:8080/"
    },
    "id": "edb847d1-c22d-4923-ba92-0ecde0f12fca",
    "outputId": "a0c35827-ebbd-41ee-d000-2dbd07df1cb6"
   },
   "source": [
    "# 최종 모델을 저장합니다.\n",
    "autoencoder.save(\"./models/autoencoder\")\n",
    "encoder.save(\"./models/encoder\")\n",
    "decoder.save(\"./models/decoder\")"
   ],
   "outputs": []
  },
  {
   "cell_type": "markdown",
   "id": "bc0f31bc-77e6-49e8-bb76-51bca124744c",
   "metadata": {
    "id": "bc0f31bc-77e6-49e8-bb76-51bca124744c",
    "tags": []
   },
   "source": [
    "## 4. 오토인코더를 사용해 재구성하기 <a name=\"reconstruct\"></a>"
   ]
  },
  {
   "cell_type": "code",
   "execution_count": 14,
   "id": "d4d83729-71a2-4494-86a5-e17830974ef0",
   "metadata": {
    "id": "d4d83729-71a2-4494-86a5-e17830974ef0"
   },
   "source": [
    "n_to_predict = 5000\n",
    "example_images = x_test[:n_to_predict]\n",
    "example_labels = y_test[:n_to_predict]"
   ],
   "outputs": []
  },
  {
   "cell_type": "code",
   "execution_count": 15,
   "id": "5c9b2a91-7cea-4595-a857-11f5ab00875e",
   "metadata": {
    "colab": {
     "base_uri": "https://localhost:8080/",
     "height": 293
    },
    "id": "5c9b2a91-7cea-4595-a857-11f5ab00875e",
    "outputId": "1691f725-f706-4e76-d47d-07c373131807"
   },
   "source": [
    "predictions = autoencoder.predict(example_images)\n",
    "\n",
    "print(\"실제 의류 아이템\")\n",
    "display(example_images)\n",
    "print(\"재구성 이미지\")\n",
    "display(predictions)"
   ],
   "outputs": []
  },
  {
   "cell_type": "markdown",
   "id": "b77c88bb-ada4-4091-94e3-764f1385f1fc",
   "metadata": {
    "id": "b77c88bb-ada4-4091-94e3-764f1385f1fc"
   },
   "source": [
    "## 5. 인코더를 사용해 임베딩하기 <a name=\"encode\"></a>"
   ]
  },
  {
   "cell_type": "code",
   "execution_count": 16,
   "id": "5e723c1c-136b-47e5-9972-ee964712d148",
   "metadata": {
    "colab": {
     "base_uri": "https://localhost:8080/"
    },
    "id": "5e723c1c-136b-47e5-9972-ee964712d148",
    "outputId": "277dacb2-5cdf-4331-88d9-7d3846f66dc6"
   },
   "source": [
    "# 샘플 이미지를 인코딩합니다.\n",
    "embeddings = encoder.predict(example_images)"
   ],
   "outputs": []
  },
  {
   "cell_type": "code",
   "execution_count": 17,
   "id": "2ed4e9bd-df14-4832-a765-dfaf36d49fca",
   "metadata": {
    "colab": {
     "base_uri": "https://localhost:8080/"
    },
    "id": "2ed4e9bd-df14-4832-a765-dfaf36d49fca",
    "outputId": "97fc8044-3363-4072-bf01-f337907cabee"
   },
   "source": [
    "# 몇 개의 임베딩을 출력합니다.\n",
    "print(embeddings[:10])"
   ],
   "outputs": []
  },
  {
   "cell_type": "code",
   "execution_count": 18,
   "id": "3bb208e8-6351-49ac-a68c-679a830f13bf",
   "metadata": {
    "colab": {
     "base_uri": "https://localhost:8080/",
     "height": 676
    },
    "id": "3bb208e8-6351-49ac-a68c-679a830f13bf",
    "outputId": "1fca201c-aa93-4b35-d079-d613f886ba5c"
   },
   "source": [
    "# 2D 공간에 인코딩된 포인트를 출력합니다.\n",
    "figsize = 8\n",
    "\n",
    "plt.figure(figsize=(figsize, figsize))\n",
    "plt.scatter(embeddings[:, 0], embeddings[:, 1], c=\"black\", alpha=0.5, s=3)\n",
    "plt.show()"
   ],
   "outputs": []
  },
  {
   "cell_type": "code",
   "execution_count": 19,
   "id": "138a34ca-67b4-42b7-a9fa-f7ffe397df49",
   "metadata": {
    "colab": {
     "base_uri": "https://localhost:8080/",
     "height": 682
    },
    "id": "138a34ca-67b4-42b7-a9fa-f7ffe397df49",
    "outputId": "e74a61ba-839d-43b8-e634-59a3867a5093"
   },
   "source": [
    "# 레이블(의류 종류)에 따라 임베딩에 색을 입힙니다.\n",
    "example_labels = y_test[:n_to_predict]\n",
    "\n",
    "figsize = 8\n",
    "plt.figure(figsize=(figsize, figsize))\n",
    "plt.scatter(\n",
    "    embeddings[:, 0],\n",
    "    embeddings[:, 1],\n",
    "    cmap=\"rainbow\",\n",
    "    c=example_labels,\n",
    "    alpha=0.8,\n",
    "    s=3,\n",
    ")\n",
    "plt.colorbar()\n",
    "plt.show()"
   ],
   "outputs": []
  },
  {
   "cell_type": "markdown",
   "id": "e0616b71-3354-419c-8ddb-f64fc29850ca",
   "metadata": {
    "id": "e0616b71-3354-419c-8ddb-f64fc29850ca"
   },
   "source": [
    "## 6. 디코더를 사용해 생성하기 <a name=\"decode\"></a>"
   ]
  },
  {
   "cell_type": "code",
   "execution_count": 20,
   "id": "2d494893-059f-42e4-825e-31c06fa3cd09",
   "metadata": {
    "id": "2d494893-059f-42e4-825e-31c06fa3cd09"
   },
   "source": [
    "# 기존의 임베딩 범위 구하기\n",
    "mins, maxs = np.min(embeddings, axis=0), np.max(embeddings, axis=0)\n",
    "\n",
    "# 잠재 공간에서 포인트를 샘플링합니다.\n",
    "grid_width, grid_height = (6, 3)\n",
    "sample = np.random.uniform(\n",
    "    mins, maxs, size=(grid_width * grid_height, EMBEDDING_DIM)\n",
    ")"
   ],
   "outputs": []
  },
  {
   "cell_type": "code",
   "execution_count": 21,
   "id": "ba3b1c66-c89d-436a-b009-19f1f5a785e5",
   "metadata": {
    "colab": {
     "base_uri": "https://localhost:8080/"
    },
    "id": "ba3b1c66-c89d-436a-b009-19f1f5a785e5",
    "outputId": "8e155707-aeb3-41dc-8e57-a2b020e7928e"
   },
   "source": [
    "# 샘플링된 포인트를 디코딩합니다.\n",
    "reconstructions = decoder.predict(sample)"
   ],
   "outputs": []
  },
  {
   "cell_type": "code",
   "execution_count": 22,
   "id": "feea9b9d-8d3e-43f5-9ead-cd9e38367c00",
   "metadata": {
    "colab": {
     "base_uri": "https://localhost:8080/",
     "height": 1000
    },
    "id": "feea9b9d-8d3e-43f5-9ead-cd9e38367c00",
    "outputId": "e1ccaa52-bf96-4f19-ee77-24fc7ca6b4ae"
   },
   "source": [
    "# 그래프로 그립니다.\n",
    "figsize = 8\n",
    "plt.figure(figsize=(figsize, figsize))\n",
    "\n",
    "# ... 원본 임베딩 ...\n",
    "plt.scatter(embeddings[:, 0], embeddings[:, 1], c=\"black\", alpha=0.5, s=2)\n",
    "\n",
    "# ... 잠재 공간에서 새로 생성된 포인트\n",
    "plt.scatter(sample[:, 0], sample[:, 1], c=\"#00B0F0\", alpha=1, s=40)\n",
    "plt.show()\n",
    "\n",
    "# 디코딩된 이미지 그리드 추가\n",
    "fig = plt.figure(figsize=(figsize, grid_height * 2))\n",
    "fig.subplots_adjust(hspace=0.4, wspace=0.4)\n",
    "\n",
    "for i in range(grid_width * grid_height):\n",
    "    ax = fig.add_subplot(grid_height, grid_width, i + 1)\n",
    "    ax.axis(\"off\")\n",
    "    ax.text(\n",
    "        0.5,\n",
    "        -0.35,\n",
    "        str(np.round(sample[i, :], 1)),\n",
    "        fontsize=10,\n",
    "        ha=\"center\",\n",
    "        transform=ax.transAxes,\n",
    "    )\n",
    "    ax.imshow(reconstructions[i, :, :], cmap=\"Greys\")"
   ],
   "outputs": []
  },
  {
   "cell_type": "code",
   "execution_count": 23,
   "id": "f64434a4-41c5-4225-ad31-9cf83f8797e1",
   "metadata": {
    "colab": {
     "base_uri": "https://localhost:8080/",
     "height": 1000
    },
    "id": "f64434a4-41c5-4225-ad31-9cf83f8797e1",
    "outputId": "85aeb8e3-58a2-4977-ddd0-96045708dc00"
   },
   "source": [
    "# 레이블(의류 종류)에 따라 임베딩에 색을 입힙니다.\n",
    "figsize = 12\n",
    "grid_size = 15\n",
    "plt.figure(figsize=(figsize, figsize))\n",
    "plt.scatter(\n",
    "    embeddings[:, 0],\n",
    "    embeddings[:, 1],\n",
    "    cmap=\"rainbow\",\n",
    "    c=example_labels,\n",
    "    alpha=0.8,\n",
    "    s=300,\n",
    ")\n",
    "plt.colorbar()\n",
    "\n",
    "x = np.linspace(min(embeddings[:, 0]), max(embeddings[:, 0]), grid_size)\n",
    "y = np.linspace(max(embeddings[:, 1]), min(embeddings[:, 1]), grid_size)\n",
    "xv, yv = np.meshgrid(x, y)\n",
    "xv = xv.flatten()\n",
    "yv = yv.flatten()\n",
    "grid = np.array(list(zip(xv, yv)))\n",
    "\n",
    "reconstructions = decoder.predict(grid)\n",
    "# plt.scatter(grid[:, 0], grid[:, 1], c=\"black\", alpha=1, s=10)\n",
    "plt.show()\n",
    "\n",
    "fig = plt.figure(figsize=(figsize, figsize))\n",
    "fig.subplots_adjust(hspace=0.4, wspace=0.4)\n",
    "for i in range(grid_size**2):\n",
    "    ax = fig.add_subplot(grid_size, grid_size, i + 1)\n",
    "    ax.axis(\"off\")\n",
    "    ax.imshow(reconstructions[i, :, :], cmap=\"Greys\")"
   ],
   "outputs": []
  }
 ],
 "metadata": {
  "accelerator": "GPU",
  "colab": {
   "gpuType": "T4",
   "provenance": []
  },
  "gpuClass": "standard",
  "kernelspec": {
   "display_name": "Python 3 (ipykernel)",
   "language": "python",
   "name": "python3"
  },
  "language_info": {
   "codemirror_mode": {
    "name": "ipython",
    "version": 3
   },
   "file_extension": ".py",
   "mimetype": "text/x-python",
   "name": "python",
   "nbconvert_exporter": "python",
   "pygments_lexer": "ipython3",
   "version": "3.9.13"
  },
  "vscode": {
   "interpreter": {
    "hash": "31f2aee4e71d21fbe5cf8b01ff0e069b9275f58929596ceb00d14d90e3e16cd6"
   }
  }
 },
 "nbformat": 4,
 "nbformat_minor": 5
}
