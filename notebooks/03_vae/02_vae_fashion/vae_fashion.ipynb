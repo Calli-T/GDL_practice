{
 "cells": [
  {
   "cell_type": "markdown",
   "id": "b076bd1a-b236-4fbc-953d-8295b25122ae",
   "metadata": {
    "id": "b076bd1a-b236-4fbc-953d-8295b25122ae"
   },
   "source": [
    "# 👖 변이형 오토인코더 - 패션 MNIST"
   ]
  },
  {
   "cell_type": "markdown",
   "id": "0023e552",
   "metadata": {
    "id": "0023e552"
   },
   "source": [
    "<table align=\"left\">\n",
    "  <td>\n",
    "    <a href=\"https://colab.research.google.com/github/rickiepark/Generative_Deep_Learning_2nd_Edition/blob/main/notebooks/03_vae/02_vae_fashion/vae_fashion.ipynb\" target=\"_parent\"><img src=\"https://colab.research.google.com/assets/colab-badge.svg\" alt=\"Open In Colab\"/></a>\n",
    "  </td>\n",
    "</table>"
   ]
  },
  {
   "cell_type": "markdown",
   "id": "9235cbd1-f136-411c-88d9-f69f270c0b96",
   "metadata": {
    "id": "9235cbd1-f136-411c-88d9-f69f270c0b96"
   },
   "source": [
    "이 노트북에서는 패션 MNIST 데이터셋으로 변이형 오토인코더를 훈련합니다."
   ]
  },
  {
   "cell_type": "code",
   "execution_count": 1,
   "id": "21ccbedc",
   "metadata": {
    "id": "21ccbedc",
    "outputId": "248d20d6-3234-4ae4-df46-6d76f39b3c82",
    "colab": {
     "base_uri": "https://localhost:8080/"
    }
   },
   "source": [
    "import sys\n",
    "\n",
    "# 코랩의 경우 깃허브 저장소로부터 utils.py를 다운로드 합니다.\n",
    "if 'google.colab' in sys.modules:\n",
    "    !wget https://raw.githubusercontent.com/rickiepark/Generative_Deep_Learning_2nd_Edition/main/notebooks/utils.py\n",
    "    !mkdir -p notebooks\n",
    "    !mv utils.py notebooks"
   ],
   "outputs": []
  },
  {
   "cell_type": "markdown",
   "id": "4ab8071b-6381-4147-8755-ea2ee48e8ab3",
   "metadata": {
    "id": "4ab8071b-6381-4147-8755-ea2ee48e8ab3"
   },
   "source": [
    "이 코드는 케라스 웹 사이트에 있는 프랑소와 숄레(Francois Chollet)가 만든 훌륭한 [VAE 튜토리얼](https://keras.io/examples/generative/vae/)을 참고했습니다."
   ]
  },
  {
   "cell_type": "code",
   "execution_count": 2,
   "id": "84acc7be-6764-4668-b2bb-178f63deeed3",
   "metadata": {
    "id": "84acc7be-6764-4668-b2bb-178f63deeed3"
   },
   "source": [
    "import numpy as np\n",
    "import matplotlib.pyplot as plt\n",
    "\n",
    "import tensorflow as tf\n",
    "import tensorflow.keras.backend as K\n",
    "from tensorflow.keras import (\n",
    "    layers,\n",
    "    models,\n",
    "    datasets,\n",
    "    callbacks,\n",
    "    losses,\n",
    "    optimizers,\n",
    "    metrics,\n",
    ")\n",
    "\n",
    "from scipy.stats import norm\n",
    "\n",
    "from notebooks.utils import display"
   ],
   "outputs": []
  },
  {
   "cell_type": "markdown",
   "id": "339e6268-ebd7-4feb-86db-1fe7abccdbe5",
   "metadata": {
    "id": "339e6268-ebd7-4feb-86db-1fe7abccdbe5"
   },
   "source": [
    "## 0. 파라미터 <a name=\"parameters\"></a>"
   ]
  },
  {
   "cell_type": "code",
   "execution_count": 3,
   "id": "1b2ee6ce-129f-4833-b0c5-fa567381c4e0",
   "metadata": {
    "id": "1b2ee6ce-129f-4833-b0c5-fa567381c4e0"
   },
   "source": [
    "IMAGE_SIZE = 32\n",
    "BATCH_SIZE = 100\n",
    "VALIDATION_SPLIT = 0.2\n",
    "EMBEDDING_DIM = 2\n",
    "EPOCHS = 5\n",
    "BETA = 500"
   ],
   "outputs": []
  },
  {
   "cell_type": "markdown",
   "id": "b7716fac-0010-49b0-b98e-53be2259edde",
   "metadata": {
    "id": "b7716fac-0010-49b0-b98e-53be2259edde"
   },
   "source": [
    "## 1. 데이터 준비 <a name=\"prepare\"></a>"
   ]
  },
  {
   "cell_type": "code",
   "execution_count": 4,
   "id": "9a73e5a4-1638-411c-8d3c-29f823424458",
   "metadata": {
    "id": "9a73e5a4-1638-411c-8d3c-29f823424458",
    "outputId": "d464d1ec-8056-4f57-8a2e-c9accf196966",
    "colab": {
     "base_uri": "https://localhost:8080/"
    }
   },
   "source": [
    "# 데이터 로드\n",
    "(x_train, y_train), (x_test, y_test) = datasets.fashion_mnist.load_data()"
   ],
   "outputs": []
  },
  {
   "cell_type": "code",
   "execution_count": 5,
   "id": "ebae2f0d-59fd-4796-841f-7213eae638de",
   "metadata": {
    "id": "ebae2f0d-59fd-4796-841f-7213eae638de"
   },
   "source": [
    "# 데이터 전처리\n",
    "def preprocess(imgs):\n",
    "    \"\"\"\n",
    "    이미지 정규화 및 크기 변경\n",
    "    \"\"\"\n",
    "    imgs = imgs.astype(\"float32\") / 255.0\n",
    "    imgs = np.pad(imgs, ((0, 0), (2, 2), (2, 2)), constant_values=0.0)\n",
    "    imgs = np.expand_dims(imgs, -1)\n",
    "    return imgs\n",
    "\n",
    "\n",
    "x_train = preprocess(x_train)\n",
    "x_test = preprocess(x_test)"
   ],
   "outputs": []
  },
  {
   "cell_type": "code",
   "execution_count": 6,
   "id": "fa53709f-7f3f-483b-9db8-2e5f9b9942c2",
   "metadata": {
    "id": "fa53709f-7f3f-483b-9db8-2e5f9b9942c2",
    "outputId": "4b08f022-a84a-4cc7-8519-5715ea3fc186",
    "colab": {
     "base_uri": "https://localhost:8080/",
     "height": 128
    }
   },
   "source": [
    "# 훈련 세트의 일부 의류 항목 표시\n",
    "display(x_train)"
   ],
   "outputs": []
  },
  {
   "cell_type": "markdown",
   "id": "aff50401-3abe-4c10-bba8-b35bc13ad7d5",
   "metadata": {
    "tags": [],
    "id": "aff50401-3abe-4c10-bba8-b35bc13ad7d5"
   },
   "source": [
    "## 2. 변이형 오토인코더 만들기 <a name=\"build\"></a>"
   ]
  },
  {
   "cell_type": "code",
   "execution_count": 7,
   "id": "1a0625b6-3c19-478b-84f9-5c2b5c2b74b4",
   "metadata": {
    "id": "1a0625b6-3c19-478b-84f9-5c2b5c2b74b4"
   },
   "source": [
    "class Sampling(layers.Layer):\n",
    "    def call(self, inputs):\n",
    "        z_mean, z_log_var = inputs\n",
    "        batch = tf.shape(z_mean)[0]\n",
    "        dim = tf.shape(z_mean)[1]\n",
    "        epsilon = K.random_normal(shape=(batch, dim))\n",
    "        return z_mean + tf.exp(0.5 * z_log_var) * epsilon"
   ],
   "outputs": []
  },
  {
   "cell_type": "code",
   "execution_count": 8,
   "id": "086e2584-c60d-4990-89f4-2092c44e023e",
   "metadata": {
    "id": "086e2584-c60d-4990-89f4-2092c44e023e",
    "outputId": "fc68e734-e27b-4cf0-8241-4fa679578e01",
    "colab": {
     "base_uri": "https://localhost:8080/"
    }
   },
   "source": [
    "# 인코더\n",
    "encoder_input = layers.Input(\n",
    "    shape=(IMAGE_SIZE, IMAGE_SIZE, 1), name=\"encoder_input\"\n",
    ")\n",
    "x = layers.Conv2D(32, (3, 3), strides=2, activation=\"relu\", padding=\"same\")(\n",
    "    encoder_input\n",
    ")\n",
    "x = layers.Conv2D(64, (3, 3), strides=2, activation=\"relu\", padding=\"same\")(x)\n",
    "x = layers.Conv2D(128, (3, 3), strides=2, activation=\"relu\", padding=\"same\")(x)\n",
    "shape_before_flattening = K.int_shape(x)[1:]  # 디코더에 필요합니다!\n",
    "\n",
    "x = layers.Flatten()(x)\n",
    "z_mean = layers.Dense(EMBEDDING_DIM, name=\"z_mean\")(x)\n",
    "z_log_var = layers.Dense(EMBEDDING_DIM, name=\"z_log_var\")(x)\n",
    "z = Sampling()([z_mean, z_log_var])\n",
    "\n",
    "encoder = models.Model(encoder_input, [z_mean, z_log_var, z], name=\"encoder\")\n",
    "encoder.summary()"
   ],
   "outputs": []
  },
  {
   "cell_type": "code",
   "execution_count": 9,
   "id": "6c409e63-1aea-42e2-8324-c3e2a12073ee",
   "metadata": {
    "id": "6c409e63-1aea-42e2-8324-c3e2a12073ee",
    "outputId": "e275cdb5-27e3-4b33-8c12-2997fd43210f",
    "colab": {
     "base_uri": "https://localhost:8080/"
    }
   },
   "source": [
    "# 디코더\n",
    "decoder_input = layers.Input(shape=(EMBEDDING_DIM,), name=\"decoder_input\")\n",
    "x = layers.Dense(np.prod(shape_before_flattening))(decoder_input)\n",
    "x = layers.Reshape(shape_before_flattening)(x)\n",
    "x = layers.Conv2DTranspose(\n",
    "    128, (3, 3), strides=2, activation=\"relu\", padding=\"same\"\n",
    ")(x)\n",
    "x = layers.Conv2DTranspose(\n",
    "    64, (3, 3), strides=2, activation=\"relu\", padding=\"same\"\n",
    ")(x)\n",
    "x = layers.Conv2DTranspose(\n",
    "    32, (3, 3), strides=2, activation=\"relu\", padding=\"same\"\n",
    ")(x)\n",
    "decoder_output = layers.Conv2D(\n",
    "    1,\n",
    "    (3, 3),\n",
    "    strides=1,\n",
    "    activation=\"sigmoid\",\n",
    "    padding=\"same\",\n",
    "    name=\"decoder_output\",\n",
    ")(x)\n",
    "\n",
    "decoder = models.Model(decoder_input, decoder_output)\n",
    "decoder.summary()"
   ],
   "outputs": []
  },
  {
   "cell_type": "code",
   "execution_count": 10,
   "id": "65b79c40-a75a-4352-935e-d644632b4d9d",
   "metadata": {
    "id": "65b79c40-a75a-4352-935e-d644632b4d9d"
   },
   "source": [
    "class VAE(models.Model):\n",
    "    def __init__(self, encoder, decoder, **kwargs):\n",
    "        super(VAE, self).__init__(**kwargs)\n",
    "        self.encoder = encoder\n",
    "        self.decoder = decoder\n",
    "        self.total_loss_tracker = metrics.Mean(name=\"total_loss\")\n",
    "        self.reconstruction_loss_tracker = metrics.Mean(\n",
    "            name=\"reconstruction_loss\"\n",
    "        )\n",
    "        self.kl_loss_tracker = metrics.Mean(name=\"kl_loss\")\n",
    "\n",
    "    @property\n",
    "    def metrics(self):\n",
    "        return [\n",
    "            self.total_loss_tracker,\n",
    "            self.reconstruction_loss_tracker,\n",
    "            self.kl_loss_tracker,\n",
    "        ]\n",
    "\n",
    "    def call(self, inputs):\n",
    "        \"\"\"특정 입력에서 모델을 호출합니다.\"\"\"\n",
    "        z_mean, z_log_var, z = encoder(inputs)\n",
    "        reconstruction = decoder(z)\n",
    "        return z_mean, z_log_var, reconstruction\n",
    "\n",
    "    def train_step(self, data):\n",
    "        \"\"\"훈련 스텝을 실행합니다.\"\"\"\n",
    "        with tf.GradientTape() as tape:\n",
    "            z_mean, z_log_var, reconstruction = self(data)\n",
    "            reconstruction_loss = tf.reduce_mean(\n",
    "                BETA\n",
    "                * losses.binary_crossentropy(\n",
    "                    data, reconstruction, axis=(1, 2, 3)\n",
    "                )\n",
    "            )\n",
    "            kl_loss = tf.reduce_mean(\n",
    "                tf.reduce_sum(\n",
    "                    -0.5\n",
    "                    * (1 + z_log_var - tf.square(z_mean) - tf.exp(z_log_var)),\n",
    "                    axis=1,\n",
    "                )\n",
    "            )\n",
    "            total_loss = reconstruction_loss + kl_loss\n",
    "\n",
    "        grads = tape.gradient(total_loss, self.trainable_weights)\n",
    "        self.optimizer.apply_gradients(zip(grads, self.trainable_weights))\n",
    "\n",
    "        self.total_loss_tracker.update_state(total_loss)\n",
    "        self.reconstruction_loss_tracker.update_state(reconstruction_loss)\n",
    "        self.kl_loss_tracker.update_state(kl_loss)\n",
    "\n",
    "        return {m.name: m.result() for m in self.metrics}\n",
    "\n",
    "    def test_step(self, data):\n",
    "        \"\"\"Step run during validation.\"\"\"\n",
    "        if isinstance(data, tuple):\n",
    "            data = data[0]\n",
    "\n",
    "        z_mean, z_log_var, reconstruction = self(data)\n",
    "        reconstruction_loss = tf.reduce_mean(\n",
    "            BETA\n",
    "            * losses.binary_crossentropy(data, reconstruction, axis=(1, 2, 3))\n",
    "        )\n",
    "        kl_loss = tf.reduce_mean(\n",
    "            tf.reduce_sum(\n",
    "                -0.5 * (1 + z_log_var - tf.square(z_mean) - tf.exp(z_log_var)),\n",
    "                axis=1,\n",
    "            )\n",
    "        )\n",
    "        total_loss = reconstruction_loss + kl_loss\n",
    "\n",
    "        return {\n",
    "            \"loss\": total_loss,\n",
    "            \"reconstruction_loss\": reconstruction_loss,\n",
    "            \"kl_loss\": kl_loss,\n",
    "        }\n",
    "\n",
    "    def get_config(self):\n",
    "        return {}"
   ],
   "outputs": []
  },
  {
   "cell_type": "code",
   "execution_count": 11,
   "id": "edf2f892-9209-42ee-b251-1e7604df5335",
   "metadata": {
    "id": "edf2f892-9209-42ee-b251-1e7604df5335"
   },
   "source": [
    "# 변이형 오토인코더 생성\n",
    "vae = VAE(encoder, decoder)"
   ],
   "outputs": []
  },
  {
   "cell_type": "markdown",
   "id": "35b14665-4359-447b-be58-3fd58ba69084",
   "metadata": {
    "id": "35b14665-4359-447b-be58-3fd58ba69084"
   },
   "source": [
    "## 3. 변이형 오토인코더 훈련 <a name=\"train\"></a>"
   ]
  },
  {
   "cell_type": "code",
   "execution_count": 12,
   "id": "b429fdad-ea9c-45a2-a556-eb950d793824",
   "metadata": {
    "id": "b429fdad-ea9c-45a2-a556-eb950d793824"
   },
   "source": [
    "# 변이형 오토인코더 컴파일\n",
    "optimizer = optimizers.Adam(learning_rate=0.0005)\n",
    "vae.compile(optimizer=optimizer)"
   ],
   "outputs": []
  },
  {
   "cell_type": "code",
   "execution_count": 13,
   "id": "c525e44b-b3bb-489c-9d35-fcfe3e714e6a",
   "metadata": {
    "id": "c525e44b-b3bb-489c-9d35-fcfe3e714e6a"
   },
   "source": [
    "# 모델 저장 체크포인트 생성\n",
    "model_checkpoint_callback = callbacks.ModelCheckpoint(\n",
    "    filepath=\"./checkpoint\",\n",
    "    save_weights_only=False,\n",
    "    save_freq=\"epoch\",\n",
    "    monitor=\"loss\",\n",
    "    mode=\"min\",\n",
    "    save_best_only=True,\n",
    "    verbose=0,\n",
    ")\n",
    "tensorboard_callback = callbacks.TensorBoard(log_dir=\"./logs\")"
   ],
   "outputs": []
  },
  {
   "cell_type": "code",
   "execution_count": 14,
   "id": "b3c497b7-fa40-48df-b2bf-541239cc9400",
   "metadata": {
    "tags": [],
    "id": "b3c497b7-fa40-48df-b2bf-541239cc9400",
    "outputId": "6421c40b-2242-45f8-a938-26ad79d1f37a",
    "colab": {
     "base_uri": "https://localhost:8080/"
    }
   },
   "source": [
    "vae.fit(\n",
    "    x_train,\n",
    "    epochs=EPOCHS,\n",
    "    batch_size=BATCH_SIZE,\n",
    "    shuffle=True,\n",
    "    validation_data=(x_test, x_test),\n",
    "    callbacks=[model_checkpoint_callback, tensorboard_callback],\n",
    ")"
   ],
   "outputs": []
  },
  {
   "cell_type": "code",
   "execution_count": 15,
   "id": "028138af-d3a5-4134-b980-d3a8a703e70f",
   "metadata": {
    "id": "028138af-d3a5-4134-b980-d3a8a703e70f",
    "outputId": "9d2a31c2-c34e-4bc8-af02-b1b6b3aa3e6d",
    "colab": {
     "base_uri": "https://localhost:8080/"
    }
   },
   "source": [
    "# 최종 모델 저장\n",
    "vae.save(\"./models/vae\")\n",
    "encoder.save(\"./models/encoder\")\n",
    "decoder.save(\"./models/decoder\")"
   ],
   "outputs": []
  },
  {
   "cell_type": "markdown",
   "id": "07ab76a1-c4b8-44e3-9c0f-00622fa82277",
   "metadata": {
    "id": "07ab76a1-c4b8-44e3-9c0f-00622fa82277"
   },
   "source": [
    "## 3. 변이형 오토인코더를 사용한 재구성 <a name=\"reconstruct\"></a>"
   ]
  },
  {
   "cell_type": "code",
   "execution_count": 16,
   "id": "d33cd456-ad3c-4086-be4c-c937e8e6cb90",
   "metadata": {
    "id": "d33cd456-ad3c-4086-be4c-c937e8e6cb90"
   },
   "source": [
    "# 테스트셋의 일부를 선택합니다.\n",
    "n_to_predict = 5000\n",
    "example_images = x_test[:n_to_predict]\n",
    "example_labels = y_test[:n_to_predict]"
   ],
   "outputs": []
  },
  {
   "cell_type": "code",
   "execution_count": 17,
   "id": "af8c8327-fda5-40d7-8909-9883c47b1a3e",
   "metadata": {
    "id": "af8c8327-fda5-40d7-8909-9883c47b1a3e",
    "outputId": "f211ca5f-2822-4518-ba3b-6c57decb718c",
    "colab": {
     "base_uri": "https://localhost:8080/",
     "height": 293
    }
   },
   "source": [
    "# 오토인코더 예측을 만들고 출력합니다.\n",
    "z_mean, z_log_var, reconstructions = vae.predict(example_images)\n",
    "print(\"실제 의류 아이템\")\n",
    "display(example_images)\n",
    "print(\"재구성 이미지\")\n",
    "display(reconstructions)"
   ],
   "outputs": []
  },
  {
   "cell_type": "markdown",
   "id": "caf7d66e-b194-4372-bcc2-cdda026f8593",
   "metadata": {
    "id": "caf7d66e-b194-4372-bcc2-cdda026f8593"
   },
   "source": [
    "## 4. 인코더를 사용하여 임베딩하기 <a name=\"encode\"></a>"
   ]
  },
  {
   "cell_type": "code",
   "execution_count": 18,
   "id": "1aac4bca-15fa-4679-b790-1347854c22b0",
   "metadata": {
    "id": "1aac4bca-15fa-4679-b790-1347854c22b0",
    "outputId": "8bfe5023-bee9-4222-b21e-f39bc1be7290",
    "colab": {
     "base_uri": "https://localhost:8080/"
    }
   },
   "source": [
    "# 예제 이미지 인코딩\n",
    "z_mean, z_var, z = encoder.predict(example_images)"
   ],
   "outputs": []
  },
  {
   "cell_type": "code",
   "execution_count": 19,
   "id": "e6836c5d-a7f3-4a98-ba1f-3d204a8654c0",
   "metadata": {
    "id": "e6836c5d-a7f3-4a98-ba1f-3d204a8654c0",
    "outputId": "d2f2cf35-f4bf-434e-980f-4aa9a2a6ab8d",
    "colab": {
     "base_uri": "https://localhost:8080/"
    }
   },
   "source": [
    "# 임베딩의 몇 가지 예\n",
    "print(z[:10])"
   ],
   "outputs": []
  },
  {
   "cell_type": "code",
   "execution_count": 20,
   "id": "02736f3a-2446-4e4c-a8c1-f1eb34729f03",
   "metadata": {
    "id": "02736f3a-2446-4e4c-a8c1-f1eb34729f03",
    "outputId": "c4e9aa79-9e72-4430-ad04-3f510f828be1",
    "colab": {
     "base_uri": "https://localhost:8080/",
     "height": 676
    }
   },
   "source": [
    "# 2D 공간에서 인코딩된 포인트 표시\n",
    "figsize = 8\n",
    "\n",
    "plt.figure(figsize=(figsize, figsize))\n",
    "plt.scatter(z[:, 0], z[:, 1], c=\"black\", alpha=0.5, s=3)\n",
    "plt.show()"
   ],
   "outputs": []
  },
  {
   "cell_type": "markdown",
   "id": "f8fb22e1-f73f-4b97-8a8a-787c1c5e605a",
   "metadata": {
    "id": "f8fb22e1-f73f-4b97-8a8a-787c1c5e605a"
   },
   "source": [
    "## 5. 디코더를 사용하여 생성하기 <a name=\"decode\"></a>"
   ]
  },
  {
   "cell_type": "code",
   "execution_count": 21,
   "id": "c8cbb2e9-4ba6-4332-b5cf-c509472b4d39",
   "metadata": {
    "id": "c8cbb2e9-4ba6-4332-b5cf-c509472b4d39"
   },
   "source": [
    "# 표준 정규 분포에서 잠재 공간의 일부 포인트를 샘플링합니다.\n",
    "grid_width, grid_height = (6, 3)\n",
    "z_sample = np.random.normal(size=(grid_width * grid_height, 2))"
   ],
   "outputs": []
  },
  {
   "cell_type": "code",
   "execution_count": 22,
   "id": "dd914b15-f9f5-4b59-934d-52ae4c7917cc",
   "metadata": {
    "id": "dd914b15-f9f5-4b59-934d-52ae4c7917cc",
    "outputId": "f1bbcdee-92d6-4312-835d-2e1d407e5b74",
    "colab": {
     "base_uri": "https://localhost:8080/"
    }
   },
   "source": [
    "# 샘플링된 포인트 디코딩\n",
    "reconstructions = decoder.predict(z_sample)"
   ],
   "outputs": []
  },
  {
   "cell_type": "code",
   "execution_count": 23,
   "id": "fc563362-4683-4065-a4f5-f2bbe21ce62e",
   "metadata": {
    "id": "fc563362-4683-4065-a4f5-f2bbe21ce62e"
   },
   "source": [
    "# 원본 임베딩과 샘플링된 임베딩을 p값으로 변환하기\n",
    "p = norm.cdf(z)\n",
    "p_sample = norm.cdf(z_sample)"
   ],
   "outputs": []
  },
  {
   "cell_type": "code",
   "execution_count": 24,
   "id": "0159b056-675e-4f3d-ab1a-eab40cfa9c46",
   "metadata": {
    "id": "0159b056-675e-4f3d-ab1a-eab40cfa9c46",
    "outputId": "9b0e5aff-7d68-4016-8eb3-8d8925d345e3",
    "colab": {
     "base_uri": "https://localhost:8080/",
     "height": 1000
    }
   },
   "source": [
    "# 그래프를 그립니다....\n",
    "figsize = 8\n",
    "plt.figure(figsize=(figsize, figsize))\n",
    "\n",
    "# ... 원본 임베딩 ...\n",
    "plt.scatter(z[:, 0], z[:, 1], c=\"black\", alpha=0.5, s=2)\n",
    "\n",
    "# ... 잠재 공간에 새로 생성된 포인트\n",
    "plt.scatter(z_sample[:, 0], z_sample[:, 1], c=\"#00B0F0\", alpha=1, s=40)\n",
    "plt.show()\n",
    "\n",
    "# 디코딩된 이미지 그리드를 추가합니다.\n",
    "fig = plt.figure(figsize=(figsize, grid_height * 2))\n",
    "fig.subplots_adjust(hspace=0.4, wspace=0.4)\n",
    "\n",
    "for i in range(grid_width * grid_height):\n",
    "    ax = fig.add_subplot(grid_height, grid_width, i + 1)\n",
    "    ax.axis(\"off\")\n",
    "    ax.text(\n",
    "        0.5,\n",
    "        -0.35,\n",
    "        str(np.round(z_sample[i, :], 1)),\n",
    "        fontsize=10,\n",
    "        ha=\"center\",\n",
    "        transform=ax.transAxes,\n",
    "    )\n",
    "    ax.imshow(reconstructions[i, :, :], cmap=\"Greys\")"
   ],
   "outputs": []
  },
  {
   "cell_type": "markdown",
   "id": "a70a79b8-b109-4a47-8364-f0edc15a0e7f",
   "metadata": {
    "id": "a70a79b8-b109-4a47-8364-f0edc15a0e7f"
   },
   "source": [
    "## 6. 잠재 공간 탐색 <a name=\"explore\"></a>"
   ]
  },
  {
   "cell_type": "code",
   "execution_count": 25,
   "id": "9547247c-0e2a-4ac5-9490-4a1346a3f527",
   "metadata": {
    "id": "9547247c-0e2a-4ac5-9490-4a1346a3f527",
    "outputId": "92ef3f6c-1353-4258-f3bf-745ce19cf584",
    "colab": {
     "base_uri": "https://localhost:8080/",
     "height": 613
    }
   },
   "source": [
    "# 레이블(의류 종류)에 따라 임베딩에 색상을 지정합니다.\n",
    "figsize = 8\n",
    "fig = plt.figure(figsize=(figsize * 2, figsize))\n",
    "ax = fig.add_subplot(1, 2, 1)\n",
    "plot_1 = ax.scatter(\n",
    "    z[:, 0], z[:, 1], cmap=\"rainbow\", c=example_labels, alpha=0.8, s=3\n",
    ")\n",
    "plt.colorbar(plot_1)\n",
    "ax = fig.add_subplot(1, 2, 2)\n",
    "plot_2 = ax.scatter(\n",
    "    p[:, 0], p[:, 1], cmap=\"rainbow\", c=example_labels, alpha=0.8, s=3\n",
    ")\n",
    "plt.show()"
   ],
   "outputs": []
  },
  {
   "cell_type": "markdown",
   "id": "4e176e97-8ee6-491a-9f93-92e9e526a2c7",
   "metadata": {
    "id": "4e176e97-8ee6-491a-9f93-92e9e526a2c7"
   },
   "source": [
    "| ID | Clothing Label |\n",
    "| :- | :- |\n",
    "| 0 | T-shirt/top |\n",
    "| 1 | Trouser |\n",
    "| 2 | Pullover |\n",
    "| 3 | Dress |\n",
    "| 4 | Coat |\n",
    "| 5 | Sandal |\n",
    "| 6 | Shirt |\n",
    "| 7 | Sneaker |\n",
    "| 8 | Bag |\n",
    "| 9 | Ankle boot |"
   ]
  },
  {
   "cell_type": "code",
   "execution_count": 26,
   "id": "276fdfa2-b5e9-41fe-b13d-fde00e3edff4",
   "metadata": {
    "id": "276fdfa2-b5e9-41fe-b13d-fde00e3edff4",
    "outputId": "aad7d5d0-6041-474e-cfb9-6393ab675d21",
    "colab": {
     "base_uri": "https://localhost:8080/",
     "height": 1000
    }
   },
   "source": [
    "# 레이블(의류 종류)에 따라 임베딩에 색상을 지정합니다.\n",
    "figsize = 12\n",
    "grid_size = 15\n",
    "plt.figure(figsize=(figsize, figsize))\n",
    "plt.scatter(\n",
    "    p[:, 0], p[:, 1], cmap=\"rainbow\", c=example_labels, alpha=0.8, s=300\n",
    ")\n",
    "plt.colorbar()\n",
    "\n",
    "x = norm.ppf(np.linspace(0, 1, grid_size))\n",
    "y = norm.ppf(np.linspace(1, 0, grid_size))\n",
    "xv, yv = np.meshgrid(x, y)\n",
    "xv = xv.flatten()\n",
    "yv = yv.flatten()\n",
    "grid = np.array(list(zip(xv, yv)))\n",
    "\n",
    "reconstructions = decoder.predict(grid)\n",
    "# plt.scatter(grid[:, 0], grid[:, 1], c=\"black\", alpha=1, s=10)\n",
    "plt.show()\n",
    "\n",
    "fig = plt.figure(figsize=(figsize, figsize))\n",
    "fig.subplots_adjust(hspace=0.4, wspace=0.4)\n",
    "for i in range(grid_size**2):\n",
    "    ax = fig.add_subplot(grid_size, grid_size, i + 1)\n",
    "    ax.axis(\"off\")\n",
    "    ax.imshow(reconstructions[i, :, :], cmap=\"Greys\")"
   ],
   "outputs": []
  }
 ],
 "metadata": {
  "kernelspec": {
   "display_name": "Python 3 (ipykernel)",
   "language": "python",
   "name": "python3"
  },
  "language_info": {
   "codemirror_mode": {
    "name": "ipython",
    "version": 3
   },
   "file_extension": ".py",
   "mimetype": "text/x-python",
   "name": "python",
   "nbconvert_exporter": "python",
   "pygments_lexer": "ipython3",
   "version": "3.9.13"
  },
  "vscode": {
   "interpreter": {
    "hash": "31f2aee4e71d21fbe5cf8b01ff0e069b9275f58929596ceb00d14d90e3e16cd6"
   }
  },
  "colab": {
   "provenance": [],
   "gpuType": "T4"
  },
  "accelerator": "GPU",
  "gpuClass": "standard"
 },
 "nbformat": 4,
 "nbformat_minor": 5
}
