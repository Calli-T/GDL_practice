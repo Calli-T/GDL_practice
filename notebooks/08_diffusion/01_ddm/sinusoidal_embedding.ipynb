{
 "cells": [
  {
   "cell_type": "markdown",
   "id": "ae9aa013",
   "metadata": {
    "id": "ae9aa013"
   },
   "source": [
    "# 🌀 사인파 임베딩"
   ]
  },
  {
   "cell_type": "markdown",
   "id": "810064e1",
   "metadata": {
    "id": "810064e1"
   },
   "source": [
    "<table align=\"left\">\n",
    "  <td>\n",
    "    <a href=\"https://colab.research.google.com/github/rickiepark/Generative_Deep_Learning_2nd_Edition/blob/main/notebooks/08_diffusion/01_ddm/sinusoidal_embedding.ipynb\" target=\"_parent\"><img src=\"https://colab.research.google.com/assets/colab-badge.svg\" alt=\"Open In Colab\"/></a>\n",
    "  </td>\n",
    "</table>"
   ]
  },
  {
   "cell_type": "code",
   "execution_count": 1,
   "id": "3a8b923f-6714-4681-a109-9402465a4147",
   "metadata": {
    "id": "3a8b923f-6714-4681-a109-9402465a4147"
   },
   "source": [
    "import numpy as np\n",
    "import math\n",
    "import matplotlib.pyplot as plt\n",
    "\n",
    "plt.style.use(\"seaborn-v0_8-colorblind\")"
   ],
   "outputs": []
  },
  {
   "cell_type": "code",
   "execution_count": 2,
   "id": "5c82cd35-e723-4095-8689-a19bb8aa4b8d",
   "metadata": {
    "id": "5c82cd35-e723-4095-8689-a19bb8aa4b8d"
   },
   "source": [
    "frequencies = np.exp(\n",
    "    np.linspace(\n",
    "        np.log(1),\n",
    "        np.log(1000),\n",
    "        32 // 2,\n",
    "    )\n",
    ")"
   ],
   "outputs": []
  },
  {
   "cell_type": "code",
   "execution_count": 3,
   "id": "024a2cda-4192-40d6-be27-212351872b73",
   "metadata": {
    "id": "024a2cda-4192-40d6-be27-212351872b73"
   },
   "source": [
    "embedding_list = []\n",
    "for y in np.arange(0, 1, 0.01):\n",
    "    x = np.array([[[[y]]]]) # noise_variances와 같은 (1, 1, 1) 크기 배열로 변환합니다.\n",
    "    angular_speeds = 2.0 * math.pi * frequencies\n",
    "    embeddings = np.concatenate(\n",
    "        [np.sin(angular_speeds * x), np.cos(angular_speeds * x)], axis=3\n",
    "    )\n",
    "    embedding_list.append(embeddings[0][0][0])\n",
    "embedding_array = np.transpose(embedding_list)"
   ],
   "outputs": []
  },
  {
   "cell_type": "code",
   "execution_count": 4,
   "id": "a2ddf579-c8df-4116-81f2-0b82c0ecbb80",
   "metadata": {
    "id": "a2ddf579-c8df-4116-81f2-0b82c0ecbb80",
    "outputId": "e70c772d-e18b-49b2-9d93-5be10d35e4f5",
    "colab": {
     "base_uri": "https://localhost:8080/",
     "height": 359
    }
   },
   "source": [
    "plt.figure(figsize=(8, 6))\n",
    "plt.imshow(\n",
    "    embedding_array, cmap=\"coolwarm\", interpolation=\"nearest\", origin=\"lower\"\n",
    ")\n",
    "plt.xticks(np.arange(0, 100, 10), np.round(np.arange(0, 1, 0.1), 2))\n",
    "plt.colorbar(location='bottom')\n",
    "plt.show()"
   ],
   "outputs": []
  },
  {
   "cell_type": "code",
   "execution_count": 5,
   "id": "f365b4b8-c7f5-411e-89da-66d9c72e2b2f",
   "metadata": {
    "id": "f365b4b8-c7f5-411e-89da-66d9c72e2b2f"
   },
   "source": [
    "def positionalencoding1d(d_model, length):\n",
    "    \"\"\"\n",
    "    :param d_model: 모델의 차원\n",
    "    :param length: 위치 길이\n",
    "    :return: length*d_model 크기의 위치 행렬\n",
    "    \"\"\"\n",
    "    if d_model % 2 != 0:\n",
    "        raise ValueError(\n",
    "            \"Cannot use sin/cos positional encoding with \"\n",
    "            \"odd dim (got dim={:d})\".format(d_model)\n",
    "        )\n",
    "    pe = np.zeros((length, d_model))\n",
    "    position = np.array(list([x] for x in np.arange(0, length)))\n",
    "    div_term = np.exp(\n",
    "        (np.arange(0, d_model, 2) * -(math.log(10000.0) / d_model))\n",
    "    )\n",
    "    pe[:, : d_model // 2] = np.sin(position * div_term)\n",
    "    pe[:, d_model // 2 :] = np.cos(position * div_term)\n",
    "\n",
    "    return pe"
   ],
   "outputs": []
  },
  {
   "cell_type": "code",
   "execution_count": 6,
   "id": "b5aca099-0cb3-4529-b404-11f67802d6b7",
   "metadata": {
    "id": "b5aca099-0cb3-4529-b404-11f67802d6b7",
    "outputId": "a2953cb5-e443-4d10-a7e1-780b0eadf36c",
    "colab": {
     "base_uri": "https://localhost:8080/",
     "height": 219
    }
   },
   "source": [
    "out = np.transpose(positionalencoding1d(32, 100))\n",
    "plt.imshow(out, cmap=\"coolwarm\", interpolation=\"nearest\", origin=\"lower\")\n",
    "plt.show()"
   ],
   "outputs": []
  }
 ],
 "metadata": {
  "kernelspec": {
   "display_name": "Python 3 (ipykernel)",
   "language": "python",
   "name": "python3"
  },
  "language_info": {
   "codemirror_mode": {
    "name": "ipython",
    "version": 3
   },
   "file_extension": ".py",
   "mimetype": "text/x-python",
   "name": "python",
   "nbconvert_exporter": "python",
   "pygments_lexer": "ipython3",
   "version": "3.10.9"
  },
  "colab": {
   "provenance": []
  }
 },
 "nbformat": 4,
 "nbformat_minor": 5
}
